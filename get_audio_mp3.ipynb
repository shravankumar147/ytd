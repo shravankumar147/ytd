{
 "cells": [
  {
   "cell_type": "code",
   "execution_count": 1,
   "metadata": {},
   "outputs": [
    {
     "data": {
      "text/plain": [
       "[audio:m4a@48k,\n",
       " audio:webm@50k,\n",
       " audio:webm@70k,\n",
       " audio:webm@128k,\n",
       " audio:webm@160k,\n",
       " audio:m4a@128k]"
      ]
     },
     "execution_count": 1,
     "metadata": {},
     "output_type": "execute_result"
    }
   ],
   "source": [
    "import pafy\n",
    "url = 'https://www.youtube.com/watch?v=zF65lvwQPbw'\n",
    "v = pafy.new(url)\n",
    "\n",
    "v.audiostreams"
   ]
  },
  {
   "cell_type": "code",
   "execution_count": 2,
   "metadata": {},
   "outputs": [
    {
     "name": "stdout",
     "output_type": "stream",
     "text": [
      "  272,778,878 Bytes [100.00%] received. Rate: [ 589 KB/s].  ETA: [0 secs]     \r"
     ]
    }
   ],
   "source": [
    "# download the audio\n",
    "ba = v.getbestaudio(preftype='m4a')\n",
    "filename = ba.download()"
   ]
  },
  {
   "cell_type": "code",
   "execution_count": 3,
   "metadata": {},
   "outputs": [
    {
     "data": {
      "text/plain": [
       "[\"Man's Search for Meaning audiobook by Viktor E Frankl\", 'm4a']"
      ]
     },
     "execution_count": 3,
     "metadata": {},
     "output_type": "execute_result"
    }
   ],
   "source": [
    "fname = filename.split('.')\n",
    "fname"
   ]
  },
  {
   "cell_type": "code",
   "execution_count": 4,
   "metadata": {},
   "outputs": [
    {
     "data": {
      "text/plain": [
       "<_io.BufferedRandom name=\"Man's Search for Meaning audiobook by Viktor E Frankl.mp3\">"
      ]
     },
     "execution_count": 4,
     "metadata": {},
     "output_type": "execute_result"
    }
   ],
   "source": [
    "    # Convert m4a to mp3\n",
    "    # !avconv -i 'chain_smokers.m4a' 'out_chainsmokers.mp3'\n",
    "    from pydub import AudioSegment\n",
    "\n",
    "    sound = AudioSegment.from_file(filename)\n",
    "    sound.export(''.join([fname[0],'.mp3']), format=\"mp3\", bitrate=\"192\")\n"
   ]
  },
  {
   "cell_type": "code",
   "execution_count": 135,
   "metadata": {},
   "outputs": [
    {
     "data": {
      "text/plain": [
       "[]"
      ]
     },
     "execution_count": 135,
     "metadata": {},
     "output_type": "execute_result"
    }
   ],
   "source": [
    "[os.remove(i) for i in os.listdir() if i.endswith('.m4a')]"
   ]
  }
 ],
 "metadata": {
  "kernelspec": {
   "display_name": "Python 3",
   "language": "python",
   "name": "python3"
  },
  "language_info": {
   "codemirror_mode": {
    "name": "ipython",
    "version": 3
   },
   "file_extension": ".py",
   "mimetype": "text/x-python",
   "name": "python",
   "nbconvert_exporter": "python",
   "pygments_lexer": "ipython3",
   "version": "3.6.1"
  }
 },
 "nbformat": 4,
 "nbformat_minor": 2
}
